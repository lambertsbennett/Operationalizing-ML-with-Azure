{
  "cells": [
    {
      "cell_type": "code",
      "source": [
        "from azureml.core import Workspace\r\n",
        "from azureml.core.webservice import Webservice"
      ],
      "outputs": [],
      "execution_count": 1,
      "metadata": {
        "gather": {
          "logged": 1609100585753
        }
      }
    },
    {
      "cell_type": "code",
      "source": [
        "ws=Workspace.from_config()"
      ],
      "outputs": [
        {
          "output_type": "stream",
          "name": "stdout",
          "text": [
            "Performing interactive authentication. Please follow the instructions on the terminal.\n",
            "To sign in, use a web browser to open the page https://microsoft.com/devicelogin and enter the code RNCX8XM2Y to authenticate.\n",
            "You have logged in. Now let us find all the subscriptions to which you have access...\n",
            "Interactive authentication successfully completed.\n"
          ]
        }
      ],
      "execution_count": 2,
      "metadata": {
        "collapsed": true,
        "jupyter": {
          "source_hidden": false,
          "outputs_hidden": false
        },
        "nteract": {
          "transient": {
            "deleting": false
          }
        },
        "gather": {
          "logged": 1609100621093
        }
      }
    },
    {
      "cell_type": "code",
      "source": [
        "service=Webservice(name='project-2-best-model', workspace=ws)"
      ],
      "outputs": [],
      "execution_count": 3,
      "metadata": {
        "collapsed": true,
        "jupyter": {
          "source_hidden": false,
          "outputs_hidden": false
        },
        "nteract": {
          "transient": {
            "deleting": false
          }
        },
        "gather": {
          "logged": 1609100628886
        }
      }
    },
    {
      "cell_type": "code",
      "source": [
        "logs=service.get_logs()"
      ],
      "outputs": [],
      "execution_count": 4,
      "metadata": {
        "collapsed": true,
        "jupyter": {
          "source_hidden": false,
          "outputs_hidden": false
        },
        "nteract": {
          "transient": {
            "deleting": false
          }
        },
        "gather": {
          "logged": 1609100631292
        }
      }
    },
    {
      "cell_type": "code",
      "source": [
        "for line in logs.split('\\n'):\r\n",
        "    print(line)\r\n"
      ],
      "outputs": [
        {
          "output_type": "stream",
          "name": "stdout",
          "text": [
            "2020-12-27T19:58:22,773462525+00:00 - iot-server/run \n",
            "2020-12-27T19:58:22,773461824+00:00 - gunicorn/run \n",
            "2020-12-27T19:58:22,773461324+00:00 - rsyslog/run \n",
            "2020-12-27T19:58:22,840423609+00:00 - nginx/run \n",
            "/usr/sbin/nginx: /azureml-envs/azureml_8eff28b157f42edcd2424a5aae6c8074/lib/libcrypto.so.1.0.0: no version information available (required by /usr/sbin/nginx)\n",
            "/usr/sbin/nginx: /azureml-envs/azureml_8eff28b157f42edcd2424a5aae6c8074/lib/libcrypto.so.1.0.0: no version information available (required by /usr/sbin/nginx)\n",
            "/usr/sbin/nginx: /azureml-envs/azureml_8eff28b157f42edcd2424a5aae6c8074/lib/libssl.so.1.0.0: no version information available (required by /usr/sbin/nginx)\n",
            "/usr/sbin/nginx: /azureml-envs/azureml_8eff28b157f42edcd2424a5aae6c8074/lib/libssl.so.1.0.0: no version information available (required by /usr/sbin/nginx)\n",
            "/usr/sbin/nginx: /azureml-envs/azureml_8eff28b157f42edcd2424a5aae6c8074/lib/libssl.so.1.0.0: no version information available (required by /usr/sbin/nginx)\n",
            "rsyslogd: /azureml-envs/azureml_8eff28b157f42edcd2424a5aae6c8074/lib/libuuid.so.1: no version information available (required by rsyslogd)\n",
            "EdgeHubConnectionString and IOTEDGE_IOTHUBHOSTNAME are not set. Exiting...\n",
            "2020-12-27T19:58:22,944499151+00:00 - iot-server/finish 1 0\n",
            "2020-12-27T19:58:22,945865257+00:00 - Exit code 1 is normal. Not restarting iot-server.\n",
            "Starting gunicorn 19.9.0\n",
            "Listening at: http://127.0.0.1:31311 (12)\n",
            "Using worker: sync\n",
            "worker timeout is set to 300\n",
            "Booting worker with pid: 41\n",
            "SPARK_HOME not set. Skipping PySpark Initialization.\n",
            "Generating new fontManager, this may take some time...\n",
            "Initializing logger\n",
            "2020-12-27 19:58:25,315 | root | INFO | Starting up app insights client\n",
            "Starting up app insights client\n",
            "2020-12-27 19:58:25,315 | root | INFO | Starting up request id generator\n",
            "Starting up request id generator\n",
            "2020-12-27 19:58:25,315 | root | INFO | Starting up app insight hooks\n",
            "Starting up app insight hooks\n",
            "2020-12-27 19:58:25,316 | root | INFO | Invoking user's init function\n",
            "Invoking user's init function\n",
            "2020-12-27 19:58:27,374 | root | INFO | Users's init has completed successfully\n",
            "Users's init has completed successfully\n",
            "2020-12-27 19:58:27,387 | root | INFO | Skipping middleware: dbg_model_info as it's not enabled.\n",
            "Skipping middleware: dbg_model_info as it's not enabled.\n",
            "2020-12-27 19:58:27,388 | root | INFO | Skipping middleware: dbg_resource_usage as it's not enabled.\n",
            "Skipping middleware: dbg_resource_usage as it's not enabled.\n",
            "2020-12-27 19:58:27,390 | root | INFO | Scoring timeout is found from os.environ: 60000 ms\n",
            "Scoring timeout is found from os.environ: 60000 ms\n",
            "2020-12-27 19:58:34,450 | root | INFO | 200\n",
            "200\n",
            "127.0.0.1 - - [27/Dec/2020:19:58:34 +0000] \"GET /swagger.json HTTP/1.0\" 200 3264 \"-\" \"Go-http-client/1.1\"\n",
            "2020-12-27 20:11:03,130 | root | INFO | 200\n",
            "200\n",
            "127.0.0.1 - - [27/Dec/2020:20:11:03 +0000] \"GET /swagger.json HTTP/1.0\" 200 3264 \"-\" \"Go-http-client/1.1\"\n",
            "2020-12-27 20:11:03,537 | root | INFO | 200\n",
            "200\n",
            "127.0.0.1 - - [27/Dec/2020:20:11:03 +0000] \"GET /swagger.json HTTP/1.0\" 200 3264 \"-\" \"Go-http-client/1.1\"\n",
            "2020-12-27 20:23:47,946 | root | INFO | 200\n",
            "200\n",
            "127.0.0.1 - - [27/Dec/2020:20:23:47 +0000] \"GET /swagger.json HTTP/1.0\" 200 3264 \"-\" \"Go-http-client/1.1\"\n",
            "\n"
          ]
        }
      ],
      "execution_count": 5,
      "metadata": {
        "collapsed": true,
        "jupyter": {
          "source_hidden": false,
          "outputs_hidden": false
        },
        "nteract": {
          "transient": {
            "deleting": false
          }
        },
        "gather": {
          "logged": 1609100634273
        }
      }
    },
    {
      "cell_type": "code",
      "source": [
        "service.update(enable_app_insights=True)"
      ],
      "outputs": [],
      "execution_count": 6,
      "metadata": {
        "collapsed": true,
        "jupyter": {
          "source_hidden": false,
          "outputs_hidden": false
        },
        "nteract": {
          "transient": {
            "deleting": false
          }
        },
        "gather": {
          "logged": 1609100640556
        }
      }
    }
  ],
  "metadata": {
    "kernelspec": {
      "display_name": "Python 3.6 - AzureML",
      "language": "python",
      "name": "python3-azureml"
    },
    "language_info": {
      "name": "python",
      "version": "3.6.9",
      "mimetype": "text/x-python",
      "codemirror_mode": {
        "name": "ipython",
        "version": 3
      },
      "pygments_lexer": "ipython3",
      "nbconvert_exporter": "python",
      "file_extension": ".py"
    },
    "nteract": {
      "version": "nteract-front-end@1.0.0"
    }
  },
  "nbformat": 4,
  "nbformat_minor": 2
}